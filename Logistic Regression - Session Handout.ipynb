{
 "cells": [
  {
   "cell_type": "markdown",
   "metadata": {},
   "source": [
    "# Logistic Regression - Session Handout"
   ]
  },
  {
   "cell_type": "markdown",
   "metadata": {},
   "source": [
    "In this session we take a deep dive into Logistic Regression. The technical term for this technique is a *generalised linear model*, and is something apprenitces should be familiar with using on the L4 Data Analyst course. Traditionally (prior to v1.5 cohorts) this technique has not been delivered to learners in detail.  \n",
    "\n",
    "Below is a summary of how Logistic Regression classifiers are built upon but differ from the normal linear model. "
   ]
  },
  {
   "cell_type": "markdown",
   "metadata": {},
   "source": [
    "# Logistic Regression Model"
   ]
  },
  {
   "cell_type": "markdown",
   "metadata": {},
   "source": [
    "Remember that for any binary classification task we are after outputs of $0\\leq h_{\\theta}(x) \\leq 1$ for whatever model we construct. \n",
    "\n",
    "To model our logistic regression, we will take the original linear regression model <br><br>\n",
    "\n",
    "<center>$h_{\\theta}(x) = \\theta^{T}x$</center>\n",
    "\n",
    "and amend it by the addition of a new parameter $g$ to give <br><br>\n",
    "\n",
    "<center>$h_{\\theta}(x) = g(\\theta^{T}x$) </center>  <br><br>\n",
    "\n",
    "<center>where $g_{z} = \\frac{1}{1+\\exp^{-z}}$</center>\n",
    "\n",
    "This is known as the **Sigmoid** or **Logistic function.** Our model (hypothesis) then becomes: <br><br>\n",
    "\n",
    "<center> $h_{\\theta}(x) = \\frac{1}{1+\\exp^{-{\\theta}^T x}}$</center> \n",
    "\n",
    "This function is plotted below. Note how at high and low $x$ the sigmoid satifies our output requirement of $0\\leq h_{\\theta}(x) \\leq 1$. Wrapping our normal linear model in this function allows our model to make linear fits, but limits the maximum and minimum output values. \n"
   ]
  },
  {
   "cell_type": "code",
   "execution_count": 5,
   "metadata": {},
   "outputs": [
    {
     "data": {
      "image/png": "[encoded data removed]",
      "text/plain": [
       "<Figure size 432x288 with 1 Axes>"
      ]
     },
     "metadata": {
      "needs_background": "light"
     },
     "output_type": "display_data"
    }
   ],
   "source": [
    "x = np.linspace(-10, 10, 100) \n",
    "z = 1/(1 + np.exp(-x)) \n",
    "  \n",
    "plt.plot(x, z) \n",
    "plt.xlabel(\"x\") \n",
    "plt.ylabel(\"Sigmoid(X)\") \n",
    "  \n",
    "plt.show() "
   ]
  },
  {
   "cell_type": "markdown",
   "metadata": {},
   "source": [
    "We interpret the output of our model as <br><br>\n",
    "<center> $h_{\\theta}(x) = P(y=1|x;\\theta)$</center> <br>\n",
    "Or in words: the probability that y=1, given x, parameterised by $\\theta$. Similarly then, for a binary classification problem:<br><br>\n",
    "<center> $P(y=0|x;\\theta) = 1 - P(y=1|x;\\theta)$</center> "
   ]
  },
  {
   "cell_type": "markdown",
   "metadata": {},
   "source": [
    "**Note**: Like in normal linear regression, we can generate non-linear models using logistic regresssion. To do so, we would need to use some higher order non-linear terms within our hypothesis <br><br>\n",
    "\n",
    "<center>$h_{\\theta}(x) = g(\\theta_{0} + \\theta_{1}x_{1} + \\theta_{2}x_{2} +.  \\theta_{3}x_{1}^{2} +  \\theta_{4}x_{2}^{2}$) </center>  <br>"
   ]
  },
  {
   "cell_type": "markdown",
   "metadata": {},
   "source": [
    "# Cost Function"
   ]
  },
  {
   "cell_type": "markdown",
   "metadata": {},
   "source": [
    "In linear regression we use **Mean Squared Error** cost function to penalise our model during training: <br><br>\n",
    "\n",
    "<center>$J(\\theta) = \\frac{1}{2m}{\\sum^{m}_{i=1}{Cost}(h_{\\theta}(x^{(i)}),y^{(i)}))}$</center> <br>\n",
    "\n",
    "where\n",
    "\n",
    "<center>$\\textrm{Cost}(h_{\\theta}(x),y)= (h_{\\theta}(x^{(i)})-y^{(i)})^{2},$</center> <br>"
   ]
  },
  {
   "cell_type": "markdown",
   "metadata": {},
   "source": [
    "However, inputting our new hypothesis (Logistic Regression model) defined above<br><br><br>\n",
    "\n",
    "<center> $h_{\\theta}(x) = \\frac{1}{1+\\exp^{-{\\theta}^T x}}$</center> <br>\n",
    "\n",
    "creates a non-convex $J(\\theta)$. The mathematical detail of this are beyond the scope of this session, but essentially this means we need a new cost function to train our model on!\n",
    "\n",
    "Or new cost function will intead be: "
   ]
  },
  {
   "cell_type": "markdown",
   "metadata": {},
   "source": [
    "<center>$\\textrm{Cost}(h_{\\theta}(x),y)=   \\begin{cases}\n",
    "    -\\log(h_{\\theta}(x))       & \\quad \\text{if } y=1\\\\\n",
    "    -\\log(1-h_\\theta(x))  & \\quad \\text{if } y=0 \n",
    "  \\end{cases}$<br><br>\n",
    "    \n",
    "Known as the **log-loss** or **cross-entropy** loss function. For more information see this [link](https://ml-cheatsheet.readthedocs.io/en/latest/loss_functions.html#cross-entropy). "
   ]
  },
  {
   "cell_type": "markdown",
   "metadata": {},
   "source": [
    "An equivelent and more compact of writing this is: <br><br>\n",
    "<center>$\\textrm{Cost}(h_{\\theta}(x),y)= -y\\log(h_{\\theta}(x))-(1-y)\\log(1-h_{\\theta}(x))$"
   ]
  },
  {
   "cell_type": "markdown",
   "metadata": {},
   "source": [
    "giving:\n",
    "\n",
    "<center>$J(\\theta) = -\\frac{1}{2m}{\\sum^{m}_{i=1}}y\\log(h_{\\theta}(x))+(1-y)\\log(1-h_{\\theta}(x))$</center> <br>\n",
    "\n",
    "and adding a regularization term we have: <br><br>\n",
    "\n",
    "<center>$J(\\theta) = [\\frac{1}{m}{\\sum^{m}_{i=1}}-y^{(i)}\\log(h_{\\theta}(x^{(i)})) - (1-y^{(i)})\\log(1-h_{\\theta}(x^{(i)}))] + \\frac{\\lambda}{2m}\\sum^{n}_{j=1}\\theta_{j}^{2}  $</center> \n",
    "\n",
    "<br>\n",
    "\n",
    "where m is the number of training examples, and n is the number of parameters (where $\\theta_{0}$ is the parameter for the bias term). To find the parameters $\\theta$ that minimise our cost function we will use Gradient Descent."
   ]
  },
  {
   "cell_type": "markdown",
   "metadata": {},
   "source": [
    "# Gradient Descent\n",
    "Recall that the general Gradient Descent algorithm is as follows:\n",
    "\n",
    "Repeat $\\{$\n",
    "\n",
    "<center>$\\theta_{j} := \\theta_{j}-\\alpha \\frac{\\delta}{\\delta \\theta_{j}}J(\\theta)$</center>\n",
    "\n",
    "$\\}$\n",
    "\n",
    "\n",
    "\n",
    "\n",
    "Where the partial derivative of the regularized cost function<br>\n",
    "\n",
    "for j=0 (i.e., for the bias term): <br>\n",
    "\n",
    "<center>$  \\frac{\\delta J(\\theta)}{\\delta \\theta_{j}} = \\frac{1}{m} {\\sum^{m}_{i=1}} (h_{\\theta}(x^{(i)} - y^{(i)})x_{j}^{(i)})        $<center>\n",
    "\n",
    "<br>\n",
    "    \n",
    "and for j $\\ge$ 1 (i.e. for the rest of the features): <br><br>\n",
    "    \n",
    "<center>$  \\frac{\\delta J(\\theta)}{\\delta \\theta_{j}} = \\frac{1}{m} {\\sum^{m}_{i=1}} (h_{\\theta}(x^{(i)} - y^{(i)})x_{j}^{(i)})) + \\frac{\\lambda}{m}\\theta_{j}        $<center><br><br>\n",
    "    \n",
    " \n",
    "Note: When implementing Gradient Descent, using a vectorised method (lineaavoids the need to create for loops. Gradient Descent can be rewritten as follows:<br><br>\n",
    "\n",
    "<center>$\\theta := \\theta -\\frac{\\alpha}{m} X^{T}(g(X\\theta)-\\bar{y}$</center>"
   ]
  },
  {
   "cell_type": "markdown",
   "metadata": {},
   "source": [
    "# Predicting the class\n",
    "\n",
    "After optimizing our parameters, $\\theta$, by gradient descent, we now want to predict the class labels. This is done by selecting a threshold.\n",
    "\n",
    "I.e.: <br>\n",
    "if $hyp_{\\theta}(x^{(i)}) \\ge 0.5, y_{pred}=1$ <br>\n",
    "if $hyp_{\\theta}(x^{(i)}) < 0.5, y_{pred}=0$ <br>"
   ]
  },
  {
   "cell_type": "code",
   "execution_count": null,
   "metadata": {},
   "outputs": [],
   "source": []
  }
 ],
 "metadata": {
  "kernelspec": {
   "display_name": "Python 3",
   "language": "python",
   "name": "python3"
  },
  "language_info": {
   "codemirror_mode": {
    "name": "ipython",
    "version": 3
   },
   "file_extension": ".py",
   "mimetype": "text/x-python",
   "name": "python",
   "nbconvert_exporter": "python",
   "pygments_lexer": "ipython3",
   "version": "3.7.4"
  }
 },
 "nbformat": 4,
 "nbformat_minor": 4
}
