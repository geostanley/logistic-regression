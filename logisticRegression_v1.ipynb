{
 "cells": [
  {
   "cell_type": "markdown",
   "metadata": {},
   "source": [
    "# Lololololologistic regression!\n",
    "\n",
    "Dataset found here: [Red wine dataset](https://www.kaggle.com/uciml/red-wine-quality-cortez-et-al-2009)\n",
    "\n",
    "**Please run all of the data pipeline cells but then scoot straight on down to the exercises below.**"
   ]
  },
  {
   "cell_type": "code",
   "execution_count": 1,
   "metadata": {},
   "outputs": [],
   "source": [
    "import pandas as pd\n",
    "import numpy as np\n",
    "\n",
    "from sklearn.preprocessing import StandardScaler\n",
    "from sklearn.preprocessing import PolynomialFeatures\n",
    "from sklearn.model_selection import train_test_split\n",
    "from sklearn.linear_model import LogisticRegression\n",
    "\n",
    "import scipy.optimize as opt  \n",
    "\n",
    "import matplotlib.pyplot as plt\n",
    "import seaborn as sns\n",
    "%matplotlib inline\n",
    "\n",
    "import warnings\n",
    "warnings.filterwarnings('ignore')"
   ]
  },
  {
   "cell_type": "code",
   "execution_count": 3,
   "metadata": {},
   "outputs": [
    {
     "data": {
      "text/html": [
       "<div>\n",
       "<style scoped>\n",
       "    .dataframe tbody tr th:only-of-type {\n",
       "        vertical-align: middle;\n",
       "    }\n",
       "\n",
       "    .dataframe tbody tr th {\n",
       "        vertical-align: top;\n",
       "    }\n",
       "\n",
       "    .dataframe thead th {\n",
       "        text-align: right;\n",
       "    }\n",
       "</style>\n",
       "<table border=\"1\" class=\"dataframe\">\n",
       "  <thead>\n",
       "    <tr style=\"text-align: right;\">\n",
       "      <th></th>\n",
       "      <th>fixed acidity</th>\n",
       "      <th>volatile acidity</th>\n",
       "      <th>citric acid</th>\n",
       "      <th>residual sugar</th>\n",
       "      <th>chlorides</th>\n",
       "      <th>free sulfur dioxide</th>\n",
       "      <th>total sulfur dioxide</th>\n",
       "      <th>density</th>\n",
       "      <th>pH</th>\n",
       "      <th>sulphates</th>\n",
       "      <th>alcohol</th>\n",
       "      <th>quality</th>\n",
       "    </tr>\n",
       "  </thead>\n",
       "  <tbody>\n",
       "    <tr>\n",
       "      <th>0</th>\n",
       "      <td>7.4</td>\n",
       "      <td>0.70</td>\n",
       "      <td>0.0</td>\n",
       "      <td>1.9</td>\n",
       "      <td>0.076</td>\n",
       "      <td>11.0</td>\n",
       "      <td>34.0</td>\n",
       "      <td>0.9978</td>\n",
       "      <td>3.51</td>\n",
       "      <td>0.56</td>\n",
       "      <td>9.4</td>\n",
       "      <td>5</td>\n",
       "    </tr>\n",
       "    <tr>\n",
       "      <th>1</th>\n",
       "      <td>7.8</td>\n",
       "      <td>0.88</td>\n",
       "      <td>0.0</td>\n",
       "      <td>2.6</td>\n",
       "      <td>0.098</td>\n",
       "      <td>25.0</td>\n",
       "      <td>67.0</td>\n",
       "      <td>0.9968</td>\n",
       "      <td>3.20</td>\n",
       "      <td>0.68</td>\n",
       "      <td>9.8</td>\n",
       "      <td>5</td>\n",
       "    </tr>\n",
       "  </tbody>\n",
       "</table>\n",
       "</div>"
      ],
      "text/plain": [
       "   fixed acidity  volatile acidity  citric acid  residual sugar  chlorides  \\\n",
       "0            7.4              0.70          0.0             1.9      0.076   \n",
       "1            7.8              0.88          0.0             2.6      0.098   \n",
       "\n",
       "   free sulfur dioxide  total sulfur dioxide  density    pH  sulphates  \\\n",
       "0                 11.0                  34.0   0.9978  3.51       0.56   \n",
       "1                 25.0                  67.0   0.9968  3.20       0.68   \n",
       "\n",
       "   alcohol  quality  \n",
       "0      9.4        5  \n",
       "1      9.8        5  "
      ]
     },
     "execution_count": 3,
     "metadata": {},
     "output_type": "execute_result"
    }
   ],
   "source": [
    "df = pd.read_csv('winequality-red.csv')\n",
    "df.head(2)"
   ]
  },
  {
   "cell_type": "code",
   "execution_count": 4,
   "metadata": {},
   "outputs": [
    {
     "name": "stdout",
     "output_type": "stream",
     "text": [
      "We have 1599 rows.\n"
     ]
    }
   ],
   "source": [
    "print(f'We have {df.shape[0]} rows.')"
   ]
  },
  {
   "cell_type": "markdown",
   "metadata": {},
   "source": [
    "We'll create two class labels based on the quality of the wine."
   ]
  },
  {
   "cell_type": "code",
   "execution_count": 5,
   "metadata": {},
   "outputs": [
    {
     "data": {
      "text/html": [
       "<div>\n",
       "<style scoped>\n",
       "    .dataframe tbody tr th:only-of-type {\n",
       "        vertical-align: middle;\n",
       "    }\n",
       "\n",
       "    .dataframe tbody tr th {\n",
       "        vertical-align: top;\n",
       "    }\n",
       "\n",
       "    .dataframe thead th {\n",
       "        text-align: right;\n",
       "    }\n",
       "</style>\n",
       "<table border=\"1\" class=\"dataframe\">\n",
       "  <thead>\n",
       "    <tr style=\"text-align: right;\">\n",
       "      <th></th>\n",
       "      <th>fixed acidity</th>\n",
       "      <th>volatile acidity</th>\n",
       "      <th>citric acid</th>\n",
       "      <th>residual sugar</th>\n",
       "      <th>chlorides</th>\n",
       "      <th>free sulfur dioxide</th>\n",
       "      <th>total sulfur dioxide</th>\n",
       "      <th>density</th>\n",
       "      <th>pH</th>\n",
       "      <th>sulphates</th>\n",
       "      <th>alcohol</th>\n",
       "      <th>quality</th>\n",
       "      <th>class</th>\n",
       "      <th>class_binary</th>\n",
       "    </tr>\n",
       "  </thead>\n",
       "  <tbody>\n",
       "    <tr>\n",
       "      <th>0</th>\n",
       "      <td>7.4</td>\n",
       "      <td>0.70</td>\n",
       "      <td>0.00</td>\n",
       "      <td>1.9</td>\n",
       "      <td>0.076</td>\n",
       "      <td>11.0</td>\n",
       "      <td>34.0</td>\n",
       "      <td>0.9978</td>\n",
       "      <td>3.51</td>\n",
       "      <td>0.56</td>\n",
       "      <td>9.4</td>\n",
       "      <td>5</td>\n",
       "      <td>paintStripper</td>\n",
       "      <td>0</td>\n",
       "    </tr>\n",
       "    <tr>\n",
       "      <th>1</th>\n",
       "      <td>7.8</td>\n",
       "      <td>0.88</td>\n",
       "      <td>0.00</td>\n",
       "      <td>2.6</td>\n",
       "      <td>0.098</td>\n",
       "      <td>25.0</td>\n",
       "      <td>67.0</td>\n",
       "      <td>0.9968</td>\n",
       "      <td>3.20</td>\n",
       "      <td>0.68</td>\n",
       "      <td>9.8</td>\n",
       "      <td>5</td>\n",
       "      <td>paintStripper</td>\n",
       "      <td>0</td>\n",
       "    </tr>\n",
       "    <tr>\n",
       "      <th>2</th>\n",
       "      <td>7.8</td>\n",
       "      <td>0.76</td>\n",
       "      <td>0.04</td>\n",
       "      <td>2.3</td>\n",
       "      <td>0.092</td>\n",
       "      <td>15.0</td>\n",
       "      <td>54.0</td>\n",
       "      <td>0.9970</td>\n",
       "      <td>3.26</td>\n",
       "      <td>0.65</td>\n",
       "      <td>9.8</td>\n",
       "      <td>5</td>\n",
       "      <td>paintStripper</td>\n",
       "      <td>0</td>\n",
       "    </tr>\n",
       "    <tr>\n",
       "      <th>3</th>\n",
       "      <td>11.2</td>\n",
       "      <td>0.28</td>\n",
       "      <td>0.56</td>\n",
       "      <td>1.9</td>\n",
       "      <td>0.075</td>\n",
       "      <td>17.0</td>\n",
       "      <td>60.0</td>\n",
       "      <td>0.9980</td>\n",
       "      <td>3.16</td>\n",
       "      <td>0.58</td>\n",
       "      <td>9.8</td>\n",
       "      <td>6</td>\n",
       "      <td>midShelf</td>\n",
       "      <td>1</td>\n",
       "    </tr>\n",
       "    <tr>\n",
       "      <th>4</th>\n",
       "      <td>7.4</td>\n",
       "      <td>0.70</td>\n",
       "      <td>0.00</td>\n",
       "      <td>1.9</td>\n",
       "      <td>0.076</td>\n",
       "      <td>11.0</td>\n",
       "      <td>34.0</td>\n",
       "      <td>0.9978</td>\n",
       "      <td>3.51</td>\n",
       "      <td>0.56</td>\n",
       "      <td>9.4</td>\n",
       "      <td>5</td>\n",
       "      <td>paintStripper</td>\n",
       "      <td>0</td>\n",
       "    </tr>\n",
       "  </tbody>\n",
       "</table>\n",
       "</div>"
      ],
      "text/plain": [
       "   fixed acidity  volatile acidity  citric acid  residual sugar  chlorides  \\\n",
       "0            7.4              0.70         0.00             1.9      0.076   \n",
       "1            7.8              0.88         0.00             2.6      0.098   \n",
       "2            7.8              0.76         0.04             2.3      0.092   \n",
       "3           11.2              0.28         0.56             1.9      0.075   \n",
       "4            7.4              0.70         0.00             1.9      0.076   \n",
       "\n",
       "   free sulfur dioxide  total sulfur dioxide  density    pH  sulphates  \\\n",
       "0                 11.0                  34.0   0.9978  3.51       0.56   \n",
       "1                 25.0                  67.0   0.9968  3.20       0.68   \n",
       "2                 15.0                  54.0   0.9970  3.26       0.65   \n",
       "3                 17.0                  60.0   0.9980  3.16       0.58   \n",
       "4                 11.0                  34.0   0.9978  3.51       0.56   \n",
       "\n",
       "   alcohol  quality          class  class_binary  \n",
       "0      9.4        5  paintStripper             0  \n",
       "1      9.8        5  paintStripper             0  \n",
       "2      9.8        5  paintStripper             0  \n",
       "3      9.8        6       midShelf             1  \n",
       "4      9.4        5  paintStripper             0  "
      ]
     },
     "execution_count": 5,
     "metadata": {},
     "output_type": "execute_result"
    }
   ],
   "source": [
    "# create class labels (0=paintStripper, 1=midShelf)\n",
    "df['class'] = df['quality'].apply(lambda x: 'paintStripper' if x<=5 else 'midShelf')\n",
    "df['class_binary'] = df['quality'].apply(lambda x: 0 if x<=5 else 1)\n",
    "\n",
    "df.head()"
   ]
  },
  {
   "cell_type": "code",
   "execution_count": 45,
   "metadata": {},
   "outputs": [
    {
     "data": {
      "text/plain": [
       "midShelf         855\n",
       "paintStripper    744\n",
       "Name: class, dtype: int64"
      ]
     },
     "execution_count": 45,
     "metadata": {},
     "output_type": "execute_result"
    }
   ],
   "source": [
    "# pretty good distribution of classes so let's crack on\n",
    "df['class'].value_counts()"
   ]
  },
  {
   "cell_type": "code",
   "execution_count": 7,
   "metadata": {},
   "outputs": [],
   "source": [
    "# let's take a look at the features\n",
    "\n",
    "sns.set_context(\"paper\", rc={\"axes.labelsize\":16})\n",
    "g = sns.pairplot(df.drop(['quality', 'class_binary'], axis=1), kind='scatter', hue='class', markers=[\"o\", \"s\"], corner=True,\n",
    "            plot_kws={'alpha':0.4})\n",
    "handles = g._legend_data.values()\n",
    "g.fig.legend(fontsize = 26, title = 'Class', title_fontsize = 26, handles=handles, labels=['Paint stripper', 'Mid-shelf'], loc='upper center', ncol=2)\n",
    "plt.show()"
   ]
  },
  {
   "cell_type": "markdown",
   "metadata": {},
   "source": [
    "From this, we can see a few things:\n",
    "1. There is a lot of overlap between the two classes, so let's not set our expectations too high;\n",
    "2. Some features do not seem to be of much help (e.g. pH), so let's drop a few;\n",
    "3. The decision boundaries do not appear too complex, so in terms of polynomials, we'll go with a second order;\n",
    "4. The features are at least normalish in their distributions, so is we wanted to scale, standard scaling would probably be fine (we're not going to do this, however, as all features are within one or two orders of magnitude anyway)."
   ]
  },
  {
   "cell_type": "code",
   "execution_count": 8,
   "metadata": {},
   "outputs": [],
   "source": [
    "# let's drop some features and split the data into our X and y\n",
    "\n",
    "# split data into features and class labels\n",
    "y = np.array(df['class_binary'])\n",
    "X = np.array(df.drop(['residual sugar', 'chlorides', 'free sulfur dioxide', 'pH', 'quality', 'class', 'class_binary'], axis=1))"
   ]
  },
  {
   "cell_type": "code",
   "execution_count": 9,
   "metadata": {},
   "outputs": [
    {
     "name": "stdout",
     "output_type": "stream",
     "text": [
      "A polynomial order of 2 has increased our number of features to 36, so be careful of overfitting.\n"
     ]
    }
   ],
   "source": [
    "# add higher order polynomial features\n",
    "\n",
    "poly_order = 2\n",
    "poly = PolynomialFeatures(degree=poly_order)\n",
    "X_poly = poly.fit_transform(X)\n",
    "\n",
    "print(f'A polynomial order of {poly_order} has increased our number of features to {X_poly.shape[1]}, so be careful of overfitting.')"
   ]
  },
  {
   "cell_type": "code",
   "execution_count": 10,
   "metadata": {},
   "outputs": [],
   "source": [
    "# as a general rule, for any algorithm that uses gradient descent, you should consider scaling the features. We're not going to bother here though\n",
    "\n",
    "scale_features = 0\n",
    "\n",
    "if scale_features == 1:\n",
    "    # scale features: z = (x - u)/s, where x is a sample (data point), u and s are the mean and std of that feature, respectively \n",
    "    scaler = StandardScaler()\n",
    "    X_std = scaler.fit_transform(X_poly)\n",
    "else:\n",
    "    X_std = X_poly"
   ]
  },
  {
   "cell_type": "code",
   "execution_count": 11,
   "metadata": {},
   "outputs": [
    {
     "name": "stdout",
     "output_type": "stream",
     "text": [
      "Training examples (m): 1119;  test examples: 480\n"
     ]
    }
   ],
   "source": [
    "# add a column of ones for the bias term\n",
    "X_std = np.insert(X_std, 0, values=1, axis=1)\n",
    "\n",
    "# train/test split\n",
    "X_train, X_test, y_train, y_test = train_test_split(X_std, y, test_size=0.3, random_state=66)\n",
    "print(f'Training examples (m): {X_train.shape[0]};  test examples: {X_test.shape[0]}')"
   ]
  },
  {
   "cell_type": "code",
   "execution_count": 12,
   "metadata": {},
   "outputs": [],
   "source": [
    "# functions for testing. These are placed here to tidy up the teaching exercises below\n",
    "\n",
    "def testCostFunction(lambda_reg):\n",
    "    # Initialize same parameters for testing\n",
    "    _, j = X_train.shape\n",
    "    theta_test = np.zeros((j,))\n",
    "\n",
    "    # load theta and cost for lambda 0\n",
    "    theta_filename = 'theta_lambda' + str(lambda_reg) + '.txt'\n",
    "    cost_filename = 'cost_lambda' + str(lambda_reg) + '.txt'\n",
    "    parameters_mat = np.loadtxt(theta_filename, delimiter=',')\n",
    "    cost_ary = np.loadtxt(cost_filename, delimiter=',')\n",
    "\n",
    "    print(f'Compare outputs from the cost function at lambda={lambda_reg}:', '\\n')\n",
    "\n",
    "    # fit loaded params to training data, calculate cost, and print\n",
    "    for i in range(parameters_mat.shape[0]):\n",
    "\n",
    "        theta_test = parameters_mat[i,:]\n",
    "        cost_Geo   = cost_ary[i]\n",
    "        cost_our   = costFunctionReg(theta_test, X_train, y_train, lambda_reg)\n",
    "\n",
    "        print(f'Geo: {round(cost_Geo, 5)}; Yours: {round(cost_our, 5)}')\n",
    "        \n",
    "def testGradFunction(lambda_reg):\n",
    "    # Initialize same parameters for testing\n",
    "    _, j = X_train.shape\n",
    "    theta_test = np.zeros((j,))\n",
    "\n",
    "    # load theta and cost for lambda 0\n",
    "    theta_filename = 'theta_lambda' + str(lambda_reg) + '.txt'\n",
    "    grad_filename = 'grad_lambda' + str(lambda_reg) + '.txt'\n",
    "    parameters_mat = np.loadtxt(theta_filename, delimiter=',')\n",
    "    grad_mat = np.loadtxt(grad_filename, delimiter=',')\n",
    "\n",
    "    print(f'Compare outputs from the partial derivative (grad) function at lambda={lambda_reg}:', '\\n')\n",
    "\n",
    "    # fit loaded params to training data, calculate sum of gradients, and print\n",
    "    for i in range(parameters_mat.shape[0]):\n",
    "        \n",
    "        theta_test = parameters_mat[i,:]\n",
    "        grad_Geo   = grad_mat[i, :].sum()\n",
    "        grad_our   = gradientReg(theta_test, X_train, y_train, lambda_reg)\n",
    "        grad_our   = grad_our.sum()\n",
    "\n",
    "        print(f'Geo: {round(grad_Geo, 5)}; Yours: {round(grad_our, 5)}')\n",
    "        \n",
    "# functions for plotting\n",
    "def plotSigmoid():\n",
    "    x_axis = np.linspace(-15, 15, 500)\n",
    "    y_sigmoid = sigmoid(x_axis)\n",
    "\n",
    "    plt.rc('xtick', labelsize=14) \n",
    "    plt.rc('ytick', labelsize=14) \n",
    "\n",
    "    plt.figure(figsize=(10,5))\n",
    "    plt.plot(x_axis, y_sigmoid, 'tab:blue', linewidth=2)\n",
    "    plt.xlabel('theta^T . x')\n",
    "    plt.ylabel('h(x) = sigmoid(theta^T . x)')\n",
    "    plt.title('The sigmoid (logistic) function', fontsize=16)\n",
    "\n",
    "    plt.show()\n",
    "    \n",
    "\n",
    "# plot of cost function\n",
    "def plotCostFunc():\n",
    "    x_axis = np.linspace(0,1,101)\n",
    "    y_when_1 = -1*(np.log(x_axis))\n",
    "    y_when_0 = -1*(np.log(1 - x_axis))\n",
    "\n",
    "    fig, (ax1, ax2) = plt.subplots(1, 2, figsize=(15,6))\n",
    "    fig.suptitle('Logistic regression cost function', fontsize=16)\n",
    "    ax1.plot(x_axis, y_when_0, 'tab:blue', linewidth=2)\n",
    "    ax2.plot(x_axis, y_when_1, 'tab:blue', linewidth=2)\n",
    "    ax1.set_title('if y=0, cost = -log(1 - hyp(x))', fontsize=16)\n",
    "    ax2.set_title('if y=1, cost = -log(hyp(x))', fontsize=16)\n",
    "    ax1.set_xlabel('hyp(x)')\n",
    "    ax2.set_xlabel('hyp(x)')\n",
    "    ax1.set_ylabel('cost')\n",
    "    ax2.set_ylabel('cost')\n",
    "\n",
    "    plt.show()"
   ]
  },
  {
   "cell_type": "markdown",
   "metadata": {},
   "source": [
    "# Exercise starts here!\n",
    "\n",
    "At this stage, the data has been tidied up a bit and split into our train and test subsets X_train, y_train, X_test, y_test — all are numpy arrays. Your task is to:\n",
    "\n",
    "1. Complete the costFunctionReg function\n",
    "2. Complete the gradientReg function\n",
    "3. Complete the predict function\n",
    "4. Enjoy yourself"
   ]
  },
  {
   "cell_type": "code",
   "execution_count": 13,
   "metadata": {},
   "outputs": [
    {
     "name": "stdout",
     "output_type": "stream",
     "text": [
      "[4.53978687e-05 2.68941421e-01 5.00000000e-01 7.31058579e-01\n",
      " 9.99954602e-01]\n"
     ]
    },
    {
     "data": {
      "image/png": "[encoded data removed]",
      "text/plain": [
       "<Figure size 720x360 with 1 Axes>"
      ]
     },
     "metadata": {
      "needs_background": "light"
     },
     "output_type": "display_data"
    }
   ],
   "source": [
    "# This has been provided for simplicity, but you should test some outputs. You should find that it works with arrays as well as numbers, and that large negative numbers -> 0,\n",
    "# and large positive numbers -> 1\n",
    "\n",
    "def sigmoid(z):\n",
    "    \n",
    "    g = 1.0/(1.0 + np.exp(-z))\n",
    "    \n",
    "    return g\n",
    "\n",
    "print(sigmoid(np.array([-10, -1, 0, 1, 10])))\n",
    "plotSigmoid()"
   ]
  },
  {
   "cell_type": "markdown",
   "metadata": {},
   "source": [
    "## 1. Complete the cost function\n",
    "\n",
    "The very first step in the logistic regression algorithm is to initialize some values for your parameters (commonly this will just be zeroes). But the next step is to calculate the cost of this model, at those parameters, when fitted to the training data. And this is what you are now going to do below.\n",
    "\n",
    "Remember, the cost function is of the form: <br>\n",
    "\n",
    "**J(theta) = -1/m * (SUM_i:m(y_i*log(hyp(x_i)) + (1-y_i)log(1-hyp(x_i))) + lambda/2m * SUM_j:n(theta_j^2)**, <br> where i=1:m are all training examples, j=1:n are all features (excluding the bias, i.e. the first feature, j_0), and hyp(x_i) is our prediction for training example i (i.e. sigmoid(theta^T.x))."
   ]
  },
  {
   "cell_type": "code",
   "execution_count": 14,
   "metadata": {},
   "outputs": [
    {
     "data": {
      "image/png": "[encoded data removed]",
      "text/plain": [
       "<Figure size 1080x432 with 2 Axes>"
      ]
     },
     "metadata": {
      "needs_background": "light"
     },
     "output_type": "display_data"
    }
   ],
   "source": [
    "plotCostFunc()"
   ]
  },
  {
   "cell_type": "code",
   "execution_count": 15,
   "metadata": {},
   "outputs": [],
   "source": [
    "def costFunctionReg(theta, X, y, lambda_reg):\n",
    "\n",
    "    # num training examples\n",
    "    m = len(y)\n",
    "\n",
    "    # You need to calculate the cost and regularization term\n",
    "    J = 0\n",
    "    reg_term = 0\n",
    "    \n",
    "    ##### PART 1: Calculate the cost, J without the reg term #####\n",
    "    \n",
    "    # calculate the unregulated cost term\n",
    "    hypothesis_vec = sigmoid(np.dot(X, theta))\n",
    "    J_unreg = sum((-1*y)*np.log(hypothesis_vec) - (1-y)*np.log(1 - hypothesis_vec))/m\n",
    "    \n",
    "    \n",
    "    # CHECK YOUR CODE BY RUNNING AGAINST THE TEST SET WITH LAMBDA=0\n",
    "    \n",
    "    \n",
    "    ##### PART 2: Calculate the reg term and add it to J #####\n",
    "    \n",
    "    # add in L2 regularization ('Ridge Regularization')\n",
    "    theta[0] = 0\n",
    "    reg_term = np.dot(theta.T, theta) * (lambda_reg/(2*m))\n",
    "    \n",
    "    # total cost\n",
    "    J = J_unreg + reg_term\n",
    "    \n",
    "    return J"
   ]
  },
  {
   "cell_type": "markdown",
   "metadata": {},
   "source": [
    "## Test your cost function\n",
    "\n",
    "When you think you have working code for part 1, you can test your results against my own. To test part 1, run this function with lambda=0. When you're ready to test your code with the regularization term, I've provided test cases for lambda = 0, 1, 10, 100, and 1000 (you'll get an error if you try anything else)."
   ]
  },
  {
   "cell_type": "code",
   "execution_count": 16,
   "metadata": {},
   "outputs": [
    {
     "name": "stdout",
     "output_type": "stream",
     "text": [
      "Compare outputs from the cost function at lambda=10: \n",
      "\n",
      "Geo: 0.62175; Yours: 0.62175\n",
      "Geo: 0.58891; Yours: 0.58891\n",
      "Geo: 0.5282; Yours: 0.5282\n",
      "Geo: 0.51029; Yours: 0.51029\n",
      "Geo: 0.49858; Yours: 0.49858\n",
      "Geo: 0.49845; Yours: 0.49845\n"
     ]
    }
   ],
   "source": [
    "# choose lambda = 0, 1, 10, 100, or 1000 (anything else will give an error)\n",
    "\n",
    "### ADJUST THIS PARAM ###\n",
    "lambda_reg = 10\n",
    "#########################\n",
    "        \n",
    "testCostFunction(lambda_reg)"
   ]
  },
  {
   "cell_type": "markdown",
   "metadata": {},
   "source": [
    "## 2. Complete the partial derivatives function (gradientReg)\n",
    "\n",
    "Now that you've got a working cost function, you need to calculate the partial derivatives of the cost function with respect to each parameter. Again, this can be done in two parts, first, without the regularization component, and then with. You can test your function against my own below (same as for the cost).\n",
    "\n",
    "Your function should return an array, grad, with lenth=number of parameters."
   ]
  },
  {
   "cell_type": "code",
   "execution_count": 17,
   "metadata": {},
   "outputs": [],
   "source": [
    "def gradientReg(theta, X, y, lambda_reg):\n",
    "    \n",
    "    ##### PART 1: Calculate the partial derivs for each parameter #####\n",
    "    \n",
    "    # num training examples\n",
    "    m = len(y)\n",
    "    \n",
    "    # calculate unregularized term of the partial derivs\n",
    "    hypothesis_vec = sigmoid(np.dot(X, theta))\n",
    "    grad = np.dot((hypothesis_vec - y).T, X)\n",
    "    grad = grad * (1/m)\n",
    "    \n",
    "    # CHECK YOUR CODE BY RUNNING AGAINST THE TEST SET WITH LAMBDA=0\n",
    "    \n",
    "    ##### PART 2: include the reg term #####\n",
    "    \n",
    "    # add in the regularized terms\n",
    "    theta[0] = 0 # do not regularize first term\n",
    "    grad = grad + (theta * (lambda_reg/m))\n",
    "\n",
    "    return grad # should be a vector with length equal to the number of parameters"
   ]
  },
  {
   "cell_type": "markdown",
   "metadata": {},
   "source": [
    "## Test your partial derivative function (gradientReg)\n",
    "\n",
    "This is the same as before. You can test for your gradient function without regularization (i.e. at lambda=0), and at lambda=1, 10, 100, aqnd 1000."
   ]
  },
  {
   "cell_type": "code",
   "execution_count": 18,
   "metadata": {},
   "outputs": [
    {
     "name": "stdout",
     "output_type": "stream",
     "text": [
      "Compare outputs from the partial derivative (grad) function at lambda=1000: \n",
      "\n",
      "Geo: 114.30384; Yours: 114.30384\n",
      "Geo: -59.96628; Yours: -59.96628\n",
      "Geo: -72.87377; Yours: -72.87377\n",
      "Geo: 1.74338; Yours: 1.74338\n",
      "Geo: -8.84228; Yours: -8.84228\n",
      "Geo: -8.84228; Yours: -8.84228\n"
     ]
    }
   ],
   "source": [
    "# choose lambda = 0, 1, 10, 100, or 1000 (anything else will give an error)\n",
    "\n",
    "### ADJUST THIS PARAM ###\n",
    "lambda_reg = 1000\n",
    "#########################\n",
    "        \n",
    "testGradFunction(lambda_reg)"
   ]
  },
  {
   "cell_type": "markdown",
   "metadata": {},
   "source": [
    "## Gradient descent\n",
    "\n",
    "Now we have the components required for gradient descent, we just have to do it. However, as the code for implementing optimizers is not really very interesting, I've just done this for you (see below). But anyway, after running the optimizer, we don't get our predictions, just our optimum parameters for the generalised linear model (i.e., we've found values for theta that minimize the cost, and we've done this using the partial derivatives). Or in Scikit-learn language, we've just done our .fit(). Now, we need to do our .predict(), and for this, you need to complete the final function (see further below)."
   ]
  },
  {
   "cell_type": "code",
   "execution_count": 19,
   "metadata": {},
   "outputs": [],
   "source": [
    "# this function is actually doing the gradient descent\n",
    "\n",
    "def optimizeTheta(initial_theta, X, y, lambda_reg):\n",
    "    \n",
    "    solution = opt.fmin_tnc(func=costFunctionReg, x0=initial_theta, fprime=gradientReg, args=(X, y, lambda_reg))\n",
    "    theta_fit = solution[0]\n",
    "    iterations = solution[1]\n",
    "    \n",
    "    return theta_fit, iterations"
   ]
  },
  {
   "cell_type": "markdown",
   "metadata": {},
   "source": [
    "## 3. Predict the class labels (1 or 0)\n",
    "\n",
    "Complete the function below. If the hypothesis for a given training example is 0.5 or more, assign it 1, otherwise, assign it 0.\n",
    "\n",
    "I.e.: <br>\n",
    "if hyp(xi)>=0.5, y_pred=1 <br>\n",
    "if hyp(xi)< 0.5, y_pred=0\n",
    "\n",
    "You should return a list of predictions with length = number of training examples"
   ]
  },
  {
   "cell_type": "code",
   "execution_count": 20,
   "metadata": {},
   "outputs": [],
   "source": [
    "def predict(theta, X):\n",
    "    \n",
    "    probability = sigmoid(np.dot(X, theta))\n",
    "    predictions = [1 if x >= 0.5 else 0 for x in probability]\n",
    "    return predictions"
   ]
  },
  {
   "cell_type": "markdown",
   "metadata": {},
   "source": [
    "**Please just run these cells and skip to the next section. You can take a look at them later, but let's run our models first!**"
   ]
  },
  {
   "cell_type": "code",
   "execution_count": 42,
   "metadata": {},
   "outputs": [],
   "source": [
    "# provided a classification accuracy function for simplicity\n",
    "def classificationAccuracy(y_actual, y_hypothesis):\n",
    "    correct = []\n",
    "    for y_act, y_hyp in zip(y_actual, y_hypothesis):\n",
    "        if int(y_act)==int(y_hyp):\n",
    "            correct.append(1)\n",
    "        else:\n",
    "            correct.append(0)\n",
    "    \n",
    "    accuracy = sum(correct)/len(correct)\n",
    "    return accuracy\n",
    "\n",
    "# also provided this ugly function. It just uses all of the functions that you've made to fit a logistic regression classifier, and it compares the results to SK-learn\n",
    "def fitAllModels(X_train, y_train, X_test, y_test, lambda_reg):\n",
    "    \n",
    "    ### RUN OUR IMPLEMENTATION OF THE LOGISTIC REGRESSION ALGORITHM ###\n",
    "    \n",
    "    # Initialize fitting parameters\n",
    "    _, j = X_train.shape\n",
    "    theta = np.zeros((j,))\n",
    "    \n",
    "    # minimize the cost function (this is our .fit() using the Scikit-learn package)\n",
    "    theta_fit, iterations = optimizeTheta(theta, X_train, y_train, lambda_reg)\n",
    "\n",
    "    # get accuracy scores for the test set\n",
    "    y_test_pred = predict(theta_fit, X_test)\n",
    "    accuracy_test = classificationAccuracy(y_test, y_test_pred)\n",
    "\n",
    "    # same again for the train\n",
    "    y_train_pred = predict(theta_fit, X_train)\n",
    "    accuracy_train = classificationAccuracy(y_train, y_train_pred)\n",
    "\n",
    "    # calculate the cost at the optimum theta values\n",
    "    J_train = costFunctionReg(theta_fit, X_train, y_train, lambda_reg)\n",
    "\n",
    "    print(f'Our logistic regression accuracy for train: {round(accuracy_train*100)}%, and for test: {round(accuracy_test*100)}%. Solution found in {iterations} iterations.')\n",
    "\n",
    "    ### CHECK AGAINST SK-LEARN ###\n",
    "    \n",
    "    # you can think of C as inversely proportional to lambda (it's a formalism usually used with SVMs, but with SK-learn they also use it with the log reg package)\n",
    "    C_param = 1/lambda_reg if lambda_reg>0 else 1_000_000 #<- this ensures we don't accidentally divide by zero\n",
    "\n",
    "    # C is our regularization param; and we do not need to add the bias (as we have already done this manually by adding ones to X)\n",
    "    LR_model = LogisticRegression(C=C_param, solver='liblinear', penalty='l2', max_iter=1000, fit_intercept=False) \n",
    "    LR_model.fit(X_train, y_train)\n",
    "    theta_SK = LR_model.coef_\n",
    "    theta_SK = theta_SK.T.reshape(-1)\n",
    "    iterations_SK = LR_model.n_iter_[0]\n",
    "    y_pred_test_SK = LR_model.predict(X_test)\n",
    "    y_pred_train_SK = LR_model.predict(X_train)\n",
    "\n",
    "    accuracy_test_SK = classificationAccuracy(y_test, y_pred_test_SK)\n",
    "    accuracy_train_SK = classificationAccuracy(y_train, y_pred_train_SK)\n",
    "\n",
    "    # calculate the cost at the optimum theta val from SK-learn\n",
    "    J_train_SK = costFunctionReg(theta_SK, X_train, y_train, lambda_reg)\n",
    "\n",
    "    print(f'SK-learn accuracy for train:                {round(accuracy_train_SK*100)}%, and for test: {round(accuracy_test_SK*100)}%. Solution found in {iterations_SK} iterations.')\n",
    "    print('\\n')\n",
    "    print(f' Cost from our log reg: {round(J_train, 5)}', '\\n', f'Cost from SK-learn:    {round(J_train_SK, 5)}')"
   ]
  },
  {
   "cell_type": "markdown",
   "metadata": {},
   "source": [
    "# Run the model\n",
    "\n",
    "We have everything in place now to both train and evaluate our logistic regression model. Let's run it and compare the results against Sci-kit learn's implementation."
   ]
  },
  {
   "cell_type": "code",
   "execution_count": 43,
   "metadata": {},
   "outputs": [
    {
     "name": "stdout",
     "output_type": "stream",
     "text": [
      "Our logistic regression accuracy for train: 68%, and for test: 65%. Solution found in 131 iterations.\n",
      "SK-learn accuracy for train:                68%, and for test: 65%. Solution found in 15 iterations.\n",
      "\n",
      "\n",
      " Cost from our log reg: 0.60056 \n",
      " Cost from SK-learn:    0.60038\n"
     ]
    }
   ],
   "source": [
    "### CHOOSE ANY LAMBDA AND THEN RUN ###\n",
    "lambda_reg = 50000\n",
    "\n",
    "fitAllModels(X_train, y_train, X_test, y_test, lambda_reg)"
   ]
  },
  {
   "cell_type": "code",
   "execution_count": null,
   "metadata": {},
   "outputs": [],
   "source": []
  },
  {
   "cell_type": "markdown",
   "metadata": {},
   "source": []
  },
  {
   "cell_type": "code",
   "execution_count": null,
   "metadata": {},
   "outputs": [],
   "source": []
  },
  {
   "cell_type": "code",
   "execution_count": null,
   "metadata": {},
   "outputs": [],
   "source": []
  },
  {
   "cell_type": "code",
   "execution_count": 23,
   "metadata": {},
   "outputs": [],
   "source": [
    "# # implementing logistic regression with for-loops\n",
    "\n",
    "# def costFunctionReg_loop(theta, X, y, lambda_reg):\n",
    "    \n",
    "#     # num training examples\n",
    "#     m = len(y)\n",
    "    \n",
    "#     # You need to return the following variables correctly\n",
    "#     J = 0\n",
    "    \n",
    "#     # calculate the unregulated cost term\n",
    "#     J_unreg = 0\n",
    "#     for i in range(m):\n",
    "        \n",
    "#         # x_i, y_i, and y_pred (hypothesis)\n",
    "#         x_i = X[i,:]\n",
    "#         y_i = y[i]\n",
    "#         hypothesis_i = sigmoid(np.dot(x_i, theta))\n",
    "        \n",
    "#         J_unreg_i = ((-1*y_i)*np.log(hypothesis_i)) - ((1 - y_i)*(np.log(1 - hypothesis_i)))\n",
    "#         J_unreg += J_unreg_i\n",
    "        \n",
    "#     J_unreg = J_unreg/m # when out of loop, take average\n",
    "    \n",
    "#     # calculate the regularization term\n",
    "#     reg_term = 0\n",
    "#     for i, theta_j in enumerate(theta):\n",
    "#         # skip the bias term\n",
    "#         if i==0:\n",
    "#             continue \n",
    "#         reg_term = reg_term + theta_j**2\n",
    "        \n",
    "#     # moderate the reg term with lambda (the regularization parameter)\n",
    "#     reg_term = (lambda_reg/(2*m)) * reg_term\n",
    "    \n",
    "#     # total cost\n",
    "#     J = J_unreg + reg_term\n",
    "    \n",
    "#     return J"
   ]
  },
  {
   "cell_type": "code",
   "execution_count": 24,
   "metadata": {},
   "outputs": [],
   "source": [
    "# # Initialize some parameters for testing\n",
    "# _, j = X_train.shape\n",
    "# theta_test = np.ones((j,))*0.000000000001\n",
    "# lambda_reg = 0.0000000000001\n",
    "\n",
    "# print(costFunctionReg(theta_test, X_train, y_train, lambda_reg))\n",
    "# print(costFunctionReg_loop(theta_test, X_train, y_train, lambda_reg))"
   ]
  },
  {
   "cell_type": "code",
   "execution_count": 25,
   "metadata": {},
   "outputs": [],
   "source": [
    "# # Initialize some parameters for testing\n",
    "# _, j = X_train.shape\n",
    "# theta_test = np.ones((j,))*0.000000000001\n",
    "# lambda_reg = 100000000000\n",
    "\n",
    "# print(costFunctionReg(theta_test, X_train, y_train, lambda_reg))\n",
    "# print(costFunctionReg_loop(theta_test, X_train, y_train, lambda_reg))\n"
   ]
  },
  {
   "cell_type": "code",
   "execution_count": 26,
   "metadata": {},
   "outputs": [],
   "source": [
    "# # check that your cost function works (without regularization, i.e. lambda=0)\n",
    "\n",
    "# # Initialize some parameters for testing\n",
    "# _, j = X_train.shape\n",
    "# theta_test = np.zeros((j,))\n",
    "# lambda_reg = 1000\n",
    "\n",
    "# # load theta and cost for lambda 0\n",
    "# theta_filename = 'theta_lambda' + str(lambda_reg) + '.txt'\n",
    "# cost_filename = 'cost_lambda' + str(lambda_reg) + '.txt'\n",
    "# parameters_mat = np.loadtxt(theta_filename, delimiter=',')\n",
    "# cost_ary = np.loadtxt(cost_filename, delimiter=',')\n",
    "\n",
    "# print(f'Compare results at lambda={lambda_reg}:', '\\n')\n",
    "\n",
    "# for i in range(parameters_mat.shape[0]):\n",
    "    \n",
    "#     theta_test = parameters_mat[i,:]\n",
    "#     cost_Geo = cost_ary[i]\n",
    "    \n",
    "#     cost_our = costFunctionReg(theta_test, X_train, y_train, lambda_reg)\n",
    "    \n",
    "    \n",
    "#     print(f'Geo: {round(cost_Geo, 5)}; Yours: {round(cost_our, 5)}')"
   ]
  },
  {
   "cell_type": "code",
   "execution_count": null,
   "metadata": {},
   "outputs": [],
   "source": []
  },
  {
   "cell_type": "code",
   "execution_count": null,
   "metadata": {},
   "outputs": [],
   "source": []
  },
  {
   "cell_type": "code",
   "execution_count": 27,
   "metadata": {},
   "outputs": [],
   "source": [
    "# def gradientReg(theta, X, y, lambda_reg):\n",
    "    \n",
    "#     ##### PART 2: Calculate the partial derivs for each parameter #####\n",
    "    \n",
    "#     # num training examples\n",
    "#     m = len(y)\n",
    "    \n",
    "#     # calculate unregularized term of the partial derivs\n",
    "#     hypothesis_vec = sigmoid(np.dot(X, theta))\n",
    "#     grad = np.dot((hypothesis_vec - y).T, X)\n",
    "#     grad = grad * (1/m)\n",
    "    \n",
    "#     # add in the regularized terms\n",
    "#     theta[0] = 0 # do not regularize first term\n",
    "#     grad = grad + (theta * (lambda_reg/m))\n",
    "\n",
    "#     return grad"
   ]
  },
  {
   "cell_type": "code",
   "execution_count": 28,
   "metadata": {},
   "outputs": [],
   "source": [
    "# def gradientReg(theta, X, y, lambda_reg):\n",
    "    \n",
    "#     ##### PART 2: Calculate the partial derivs for each parameter #####\n",
    "    \n",
    "#     # num training examples\n",
    "#     m = len(y)\n",
    "    \n",
    "#     # calculate unregularized term of the partial derivs\n",
    "#     hypothesis_vec = sigmoid(np.matmul(X, theta))\n",
    "#     grad = np.matmul(np.transpose(hypothesis_vec - y), X)\n",
    "#     grad = grad * (1/m)\n",
    "    \n",
    "#     # add in the regularized terms\n",
    "#     theta[0] = 0 # do not regularize first term\n",
    "#     grad = grad + (theta * (lambda_reg/m))\n",
    "\n",
    "#     return grad\n",
    "\n",
    "# def optimizeTheta(initial_theta, X, y, lambda_reg):\n",
    "    \n",
    "#     solution = opt.fmin_tnc(func=costFunctionReg, x0=initial_theta, fprime=gradientReg, args=(X, y, lambda_reg))\n",
    "#     theta_fit = solution[0]\n",
    "#     iterations = solution[1]\n",
    "    \n",
    "#     return theta_fit, iterations\n",
    "\n",
    "# def optimizeTheta_maxIter(initial_theta, X, y, lambda_reg, max_iter):\n",
    "    \n",
    "#     solution = opt.fmin_tnc(func=costFunctionReg, x0=initial_theta, fprime=gradientReg, args=(X, y, lambda_reg), maxfun=max_iter)\n",
    "#     theta_fit = solution[0]\n",
    "#     iterations = solution[1]\n",
    "    \n",
    "#     return theta_fit, iterations\n",
    "\n",
    "# def predict(theta, X):\n",
    "    \n",
    "#     probability = sigmoid(np.dot(X, theta))\n",
    "#     predictions = [1 if x >= 0.5 else 0 for x in probability]\n",
    "#     return predictions\n",
    "\n",
    "# def classificationAccuracy(y_actual, y_hypothesis):\n",
    "#     correct = []\n",
    "#     for y_act, y_hyp in zip(y_actual, y_hypothesis):\n",
    "#         if int(y_act)==int(y_hyp):\n",
    "#             correct.append(1)\n",
    "#         else:\n",
    "#             correct.append(0)\n",
    "    \n",
    "#     accuracy = sum(correct)/len(correct)\n",
    "#     return accuracy"
   ]
  },
  {
   "cell_type": "code",
   "execution_count": 29,
   "metadata": {},
   "outputs": [],
   "source": [
    "# # check that \n",
    "\n",
    "# max_iters = [5, 10, 20, 40, 80]"
   ]
  },
  {
   "cell_type": "code",
   "execution_count": 30,
   "metadata": {},
   "outputs": [],
   "source": [
    "# # Initialize fitting parameters\n",
    "# _, j = X_train.shape\n",
    "# initial_theta = np.zeros((j,))\n",
    "# # set lambda_reg\n",
    "# lambda_reg = 0\n",
    "\n",
    "# fitAllModels(initial_theta, X_train, y_train, X_test, y_test, lambda_reg)\n",
    "\n",
    "# def fitAllModels(theta, X_train, y_train, X_test, y_test, lambda_reg):\n",
    "    \n",
    "#     # Initialize fitting parameters\n",
    "#     _, j = X_train.shape\n",
    "#     initial_theta = np.zeros((j,))\n",
    "    \n",
    "#     # minimize the cost function (this is our .fit() using the Scikit-learn package)\n",
    "#     theta_fit, iterations = optimizeTheta(theta, X_train, y_train, lambda_reg)\n",
    "\n",
    "#     # get accuracy scores for train and test\n",
    "#     y_test_pred = predict(theta_fit, X_test)\n",
    "#     accuracy_test = classificationAccuracy(y_test, y_test_pred)\n",
    "\n",
    "#     y_train_pred = predict(theta_fit, X_train)\n",
    "#     accuracy_train = classificationAccuracy(y_train, y_train_pred)\n",
    "\n",
    "#     # calculate the cost at the optimum theta val\n",
    "#     J_train = costFunctionReg(theta_fit, X_train, y_train, lambda_reg)\n",
    "\n",
    "#     print(f'Our logistic regression accuracy for train: {round(accuracy_train*100)}%, and for test: {round(accuracy_test*100)}%. Solution found in {iterations} iterations.')\n",
    "\n",
    "#     # check against SK-learn\n",
    "\n",
    "#     # you can think of C as inversely proportional to lambda (it's a formalism usually used with SVMs, but with SK-learn they also use it with the log reg package)\n",
    "#     C_param = 1/lambda_reg if lambda_reg>0 else 1_000_000 #<- this ensures we don't accidentally divide by zero\n",
    "\n",
    "#     LR_model = LogisticRegression(C=C_param, solver='liblinear', penalty='l2', max_iter=1000, fit_intercept=False) # C is our regularization param; and we do not need to add the bias (as we have already done this manually by adding ones to X)\n",
    "#     LR_model.fit(X_train, y_train)\n",
    "#     theta_SK = LR_model.coef_\n",
    "#     theta_SK = theta_SK.T.reshape(-1)\n",
    "#     iterations_SK = LR_model.n_iter_[0]\n",
    "#     y_pred_test_SK = LR_model.predict(X_test)\n",
    "#     y_pred_train_SK = LR_model.predict(X_train)\n",
    "\n",
    "#     accuracy_test_SK = classificationAccuracy(y_test, y_pred_test_SK)\n",
    "#     accuracy_train_SK = classificationAccuracy(y_train, y_pred_train_SK)\n",
    "\n",
    "#     # calculate the cost at the optimum theta val from SK-learn\n",
    "#     J_train_SK = costFunctionReg(theta_SK, X_train, y_train, lambda_reg)\n",
    "\n",
    "#     print(f'SK-learn accuracy for train:                {round(accuracy_train_SK*100)}%, and for test: {round(accuracy_test_SK*100)}%. Solution found in {iterations_SK} iterations.')\n",
    "#     print('\\n')\n",
    "#     print(f' Cost from our log reg: {round(J_train, 5)}', '\\n', f'Cost from SK-learn:    {round(J_train_SK, 5)}')"
   ]
  },
  {
   "cell_type": "code",
   "execution_count": 31,
   "metadata": {},
   "outputs": [],
   "source": [
    "# # Initialize fitting parameters\n",
    "# _, j = X_train.shape\n",
    "# initial_theta = np.zeros((j,))\n",
    "\n",
    "# # set lambda_reg\n",
    "# lambda_reg = 0\n",
    "\n",
    "# # minimize the cost function (this is our .fit() using the Scikit-learn package)\n",
    "# theta_fit, iterations = optimizeTheta(initial_theta, X_train, y_train, lambda_reg)\n",
    "\n",
    "# # get accuracy scores for train and test\n",
    "# y_test_pred = predict(theta_fit, X_test)\n",
    "# accuracy_test = classificationAccuracy(y_test, y_test_pred)\n",
    "\n",
    "# y_train_pred = predict(theta_fit, X_train)\n",
    "# accuracy_train = classificationAccuracy(y_train, y_train_pred)\n",
    "\n",
    "# # calculate the cost at the optimum theta val\n",
    "# J_train = costFunctionReg(theta_fit, X_train, y_train, lambda_reg)\n",
    "\n",
    "# print(f'Our logistic regression accuracy for train: {round(accuracy_train*100)}%, and for test: {round(accuracy_test*100)}%. Solution found in {iterations} iterations.')\n",
    "\n",
    "# # check against SK-learn\n",
    "\n",
    "# # you can think of C as inversely proportional to lambda (it's a formalism usually used with SVMs, but with SK-learn they also use it with the log reg package)\n",
    "# C_param = 1/lambda_reg if lambda_reg>0 else 1_000_000 #<- this ensures we don't accidentally divide by zero\n",
    "\n",
    "# LR_model = LogisticRegression(C=C_param, solver='liblinear', penalty='l2', max_iter=1000, fit_intercept=False) # C is our regularization param; and we do not need to add the bias (as we have already done this manually by adding ones to X)\n",
    "# LR_model.fit(X_train, y_train)\n",
    "# theta_SK = LR_model.coef_\n",
    "# theta_SK = theta_SK.T.reshape(-1)\n",
    "# iterations_SK = LR_model.n_iter_[0]\n",
    "# y_pred_test_SK = LR_model.predict(X_test)\n",
    "# y_pred_train_SK = LR_model.predict(X_train)\n",
    "\n",
    "# accuracy_test_SK = classificationAccuracy(y_test, y_pred_test_SK)\n",
    "# accuracy_train_SK = classificationAccuracy(y_train, y_pred_train_SK)\n",
    "\n",
    "# # calculate the cost at the optimum theta val from SK-learn\n",
    "# J_train_SK = costFunctionReg(theta_SK, X_train, y_train, lambda_reg)\n",
    "\n",
    "# print(f'SK-learn accuracy for train:                {round(accuracy_train_SK*100)}%, and for test: {round(accuracy_test_SK*100)}%. Solution found in {iterations_SK} iterations.')\n",
    "# print('\\n')\n",
    "# print(f' Cost from our log reg: {round(J_train, 5)}', '\\n', f'Cost from SK-learn:    {round(J_train_SK, 5)}')"
   ]
  },
  {
   "cell_type": "code",
   "execution_count": null,
   "metadata": {},
   "outputs": [],
   "source": []
  },
  {
   "cell_type": "code",
   "execution_count": 32,
   "metadata": {},
   "outputs": [],
   "source": [
    "# # re-do the train test split and assign predicted labels for plotting\n",
    "# X_train_plot, X_test_plot, y_train_plot, y_test_plot = train_test_split(df, y, test_size=0.3, random_state=66)\n",
    "\n",
    "# X_train_plot['predictions_binary'] = list(y_train_pred)\n",
    "# X_test_plot['predictions_binary'] = list(y_test_pred)\n",
    "\n",
    "# X_train_plot['predictions'] = X_train_plot['predictions_binary'].apply(lambda x: 'paintStripper' if x==0 else 'midShelf')\n",
    "# X_test_plot['predictions'] = X_test_plot['predictions_binary'].apply(lambda x: 'paintStripper' if x==0 else 'midShelf')"
   ]
  },
  {
   "cell_type": "code",
   "execution_count": 33,
   "metadata": {},
   "outputs": [],
   "source": [
    "# sns.set_context(\"paper\", rc={\"axes.labelsize\":16})\n",
    "# g = sns.pairplot(X_test_plot.drop(['quality', 'class_binary', 'class', 'predictions_binary'], axis=1), kind='scatter', hue='predictions', markers=[\"o\", \"s\"], corner=True,\n",
    "#             plot_kws={'alpha':0.4})\n",
    "# handles = g._legend_data.values()\n",
    "# g.fig.legend(fontsize = 26, title = 'Predictions', title_fontsize = 26, handles=handles, labels=['Paint stripper', 'Mid-shelf'], loc='upper center', ncol=2)\n",
    "# plt.show()"
   ]
  },
  {
   "cell_type": "code",
   "execution_count": 34,
   "metadata": {},
   "outputs": [],
   "source": [
    "# # plot the sigmoid function\n",
    "\n",
    "# x_axis = np.linspace(-15, 15, 500)\n",
    "# y_sigmoid = sigmoid(x_axis)\n",
    "\n",
    "# plt.rc('xtick', labelsize=14) \n",
    "# plt.rc('ytick', labelsize=14) \n",
    "\n",
    "# plt.figure(figsize=(10,5))\n",
    "# plt.plot(x_axis, y_sigmoid, 'tab:blue', linewidth=2)\n",
    "# plt.xlabel('theta^T . x')\n",
    "# plt.ylabel('h(x) = sigmoid(theta^T . x)')\n",
    "# plt.title('The sigmoid (logistic) function', fontsize=16)\n",
    "\n",
    "# plt.show()"
   ]
  },
  {
   "cell_type": "code",
   "execution_count": 35,
   "metadata": {},
   "outputs": [],
   "source": [
    "# # plot of cost function\n",
    "\n",
    "# x_axis = np.linspace(0,1,101)\n",
    "# y_when_1 = -1*(np.log(x_axis))\n",
    "# y_when_0 = -1*(np.log(1 - x_axis))\n",
    "\n",
    "# fig, (ax1, ax2) = plt.subplots(1, 2, figsize=(15,6))\n",
    "# fig.suptitle('Logistic regression cost function', fontsize=16)\n",
    "# ax1.plot(x_axis, y_when_0, 'tab:blue', linewidth=2)\n",
    "# ax2.plot(x_axis, y_when_1, 'tab:blue', linewidth=2)\n",
    "# ax1.set_title('if y=0, cost = -log(1 - hyp(x))', fontsize=16)\n",
    "# ax2.set_title('if y=1, cost = -log(hyp(x))', fontsize=16)\n",
    "# ax1.set_xlabel('hyp(x)')\n",
    "# ax2.set_xlabel('hyp(x)')\n",
    "# ax1.set_ylabel('cost')\n",
    "# ax2.set_ylabel('cost')\n",
    "\n",
    "# plt.show()"
   ]
  },
  {
   "cell_type": "code",
   "execution_count": null,
   "metadata": {},
   "outputs": [],
   "source": []
  },
  {
   "cell_type": "code",
   "execution_count": null,
   "metadata": {},
   "outputs": [],
   "source": []
  },
  {
   "cell_type": "code",
   "execution_count": null,
   "metadata": {},
   "outputs": [],
   "source": []
  },
  {
   "cell_type": "code",
   "execution_count": null,
   "metadata": {},
   "outputs": [],
   "source": []
  },
  {
   "cell_type": "code",
   "execution_count": 36,
   "metadata": {},
   "outputs": [],
   "source": [
    "# # implementing logistic regression with for-loops\n",
    "\n",
    "# def costFunctionReg_loop(theta, X, y, lambda_reg):\n",
    "    \n",
    "#     # num training examples\n",
    "#     m = len(y)\n",
    "    \n",
    "#     # You need to return the following variables correctly\n",
    "#     J = 0\n",
    "#     grad = np.zeros(theta.shape)\n",
    "    \n",
    "#     # calculate the unregulated cost term\n",
    "#     J_unreg = 0\n",
    "#     for i in range(m):\n",
    "        \n",
    "#         # x_i, y_i, and y_pred (hypothesis)\n",
    "#         x_i = X[i,:]\n",
    "#         y_i = y[i]\n",
    "#         hypothesis_i = sigmoid(np.matmul(x_i, theta))\n",
    "        \n",
    "#         J_unreg_i = ((-1*y_i)*np.log(hypothesis_i)) - ((1 - y_i)*(np.log(1 - hypothesis_i)))\n",
    "#         J_unreg += J_unreg_i\n",
    "        \n",
    "#     J_unreg = J_unreg/m # when out of loop, take average\n",
    "    \n",
    "#     # calculate the regularization term\n",
    "#     reg_term = 0\n",
    "#     for i, theta_j in enumerate(theta):\n",
    "#         # skip the bias term\n",
    "#         if i==0:\n",
    "#             continue \n",
    "#         reg_term = reg_term + theta_j**2\n",
    "        \n",
    "#     # moderate the reg term with lambda (the regularization parameter)\n",
    "#     reg_term = (lambda_reg/(2*m)) * reg_term\n",
    "    \n",
    "#     # total cost\n",
    "#     J = J_unreg + reg_term\n",
    "    \n",
    "#     return J, grad"
   ]
  },
  {
   "cell_type": "code",
   "execution_count": 37,
   "metadata": {},
   "outputs": [],
   "source": [
    "# # Initialize fitting parameters\n",
    "# _, j = X_train.shape\n",
    "# initial_theta = np.zeros((j,))\n",
    "# # set lambda_reg\n",
    "# lambda_reg = 1000\n",
    "\n",
    "# max_iters = [5, 10, 20, 40, 80]\n",
    "# Theta_mat = np.zeros((len(max_iters)+1, j))\n",
    "# grad_mat = np.zeros((len(max_iters)+1, j))\n",
    "# J_ary = np.zeros((len(max_iters)+1, ))\n",
    "\n",
    "# for i, max_iter in enumerate(max_iters):\n",
    "    \n",
    "#     # minimize the cost function up to max iter\n",
    "#     theta_fit, iterations = optimizeTheta_maxIter(initial_theta, X_train, y_train, lambda_reg, max_iter)\n",
    "#     Theta_mat[i, :] = theta_fit\n",
    "    \n",
    "#     # calculate the cost\n",
    "#     cost = costFunctionReg(theta_fit, X_train, y_train, lambda_reg)\n",
    "#     J_ary[i,] = cost\n",
    "    \n",
    "#     # calculate the gradient\n",
    "#     grad = gradientReg(theta_fit, X_train, y_train, lambda_reg)\n",
    "#     grad_mat[i, :] = grad\n",
    "\n",
    "# # minimize the cost function \n",
    "# theta_fit, iterations = optimizeTheta(initial_theta, X_train, y_train, lambda_reg)\n",
    "# Theta_mat[len(max_iters), :] = theta_fit\n",
    "# # print(Theta_mat)\n",
    "\n",
    "# # calculate the cost\n",
    "# cost = costFunctionReg(theta_fit, X_train, y_train, lambda_reg)\n",
    "# J_ary[len(max_iters)] = cost\n",
    "# # print(J_ary)\n",
    "\n",
    "# # calculate the grad\n",
    "# grad = gradientReg(theta_fit, X_train, y_train, lambda_reg)\n",
    "# grad_mat[len(max_iters), :] = grad\n",
    "    \n",
    "# np.savetxt('theta_lambda1000.txt', Theta_mat, delimiter=',')   \n",
    "# np.savetxt('cost_lambda1000.txt', J_ary, delimiter=',')   \n",
    "# np.savetxt('grad_lambda1000.txt', grad_mat, delimiter=',')"
   ]
  },
  {
   "cell_type": "code",
   "execution_count": null,
   "metadata": {},
   "outputs": [],
   "source": []
  }
 ],
 "metadata": {
  "kernelspec": {
   "display_name": "Python 3",
   "language": "python",
   "name": "python3"
  },
  "language_info": {
   "codemirror_mode": {
    "name": "ipython",
    "version": 3
   },
   "file_extension": ".py",
   "mimetype": "text/x-python",
   "name": "python",
   "nbconvert_exporter": "python",
   "pygments_lexer": "ipython3",
   "version": "3.7.6"
  }
 },
 "nbformat": 4,
 "nbformat_minor": 4
}
